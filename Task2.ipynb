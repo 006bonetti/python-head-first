{
 "cells": [
  {
   "cell_type": "code",
   "execution_count": 1,
   "metadata": {},
   "outputs": [],
   "source": [
    "#all the code - Task 2\n",
    "#1 Extract data from the file's name\n",
    "#1a - acquire the filename\n",
    "#1b - break the filename apart by the \"-\" character\n",
    "#1c - put the swimmer's name, age group, distance, and stroke into variables (so they can be used later)\n",
    "\n",
    "#2 Process the data in the file\n",
    "#2a\n"
   ]
  },
  {
   "cell_type": "code",
   "execution_count": 4,
   "metadata": {},
   "outputs": [
    {
     "name": "stdout",
     "output_type": "stream",
     "text": [
      "Help on built-in function removesuffix:\n",
      "\n",
      "removesuffix(suffix, /) method of builtins.str instance\n",
      "    Return a str with the given suffix string removed if present.\n",
      "    \n",
      "    If the string ends with the suffix string and that suffix is not empty,\n",
      "    return string[:-len(suffix)]. Otherwise, return a copy of the original\n",
      "    string.\n",
      "\n"
     ]
    }
   ],
   "source": [
    "help(fn.removesuffix)"
   ]
  },
  {
   "cell_type": "code",
   "execution_count": 70,
   "metadata": {},
   "outputs": [
    {
     "name": "stdout",
     "output_type": "stream",
     "text": [
      "['1:31.59,1:26.55,1:28.75,1:39.79,1:32.37\\n']\n",
      "['1:31.59', '1:26.55', '1:28.75', '1:39.79', '1:32.37']\n",
      "1 31 59\n",
      "1 26 55\n",
      "1 28 75\n",
      "1 39 79\n",
      "1 32 37\n",
      "[9159, 8655, 8875, 9979, 9237]\n",
      "9181\n",
      "1:31.81\n"
     ]
    }
   ],
   "source": [
    "#1 Extract data from the file's name\n",
    "#1a - acquire the filename\n",
    "#1b - break the filename apart by the \"-\" character\n",
    "#1c - put the swimmer's name, age group, distance, and stroke into variables (so they can be used later)\n",
    "\n",
    "fn = 'Abi-10-100m-Back.txt'\n",
    "#print(fn.removesuffix('.txt'))\n",
    "name, age, distance, stroke = fn.removesuffix('.txt').split('-')\n",
    "#print (name, age, distance, stroke)\n",
    "\n",
    "#2 Process the file\n",
    "with open('swimdata/' + fn) as file:\n",
    "    line = file.readlines()\n",
    "    print(line)\n",
    "    times = line[0].strip().split(',')\n",
    "\n",
    "print(times)\n",
    "hundredths = []\n",
    "for t in times:\n",
    "    min_sec,hun = t.split('.')\n",
    "    min, sec = min_sec.split(':')\n",
    "    print(min, sec, hun)\n",
    "    hundredths.append(int(min)*60*100 + int(sec)*100 + int(hun))\n",
    "\n",
    "print(hundredths)\n",
    "import statistics\n",
    "average = statistics.mean(hundredths)\n",
    "print(average)\n",
    "mins_secs, hundredths  = str(round(average / 100, 2)).split(\".\")\n",
    "mins_secs = int(mins_secs)\n",
    "minutes = mins_secs // 60\n",
    "seconds = mins_secs - minutes*60\n",
    "average = str(minutes) + \":\" + str(seconds) + \".\" + hundredths\n",
    "print(average)\n",
    "   "
   ]
  },
  {
   "cell_type": "code",
   "execution_count": 59,
   "metadata": {},
   "outputs": [
    {
     "name": "stdout",
     "output_type": "stream",
     "text": [
      "['__abs__', '__add__', '__bool__', '__ceil__', '__class__', '__delattr__', '__dir__', '__divmod__', '__doc__', '__eq__', '__float__', '__floor__', '__floordiv__', '__format__', '__ge__', '__getattribute__', '__getformat__', '__getnewargs__', '__getstate__', '__gt__', '__hash__', '__init__', '__init_subclass__', '__int__', '__le__', '__lt__', '__mod__', '__mul__', '__ne__', '__neg__', '__new__', '__pos__', '__pow__', '__radd__', '__rdivmod__', '__reduce__', '__reduce_ex__', '__repr__', '__rfloordiv__', '__rmod__', '__rmul__', '__round__', '__rpow__', '__rsub__', '__rtruediv__', '__setattr__', '__sizeof__', '__str__', '__sub__', '__subclasshook__', '__truediv__', '__trunc__', 'as_integer_ratio', 'conjugate', 'fromhex', 'hex', 'imag', 'is_integer', 'real']\n"
     ]
    }
   ],
   "source": [
    "59 + 31*100 + 1*60*100\n",
    "print(dir(float))"
   ]
  },
  {
   "cell_type": "code",
   "execution_count": 17,
   "metadata": {},
   "outputs": [
    {
     "name": "stdout",
     "output_type": "stream",
     "text": [
      "ahojdda\n"
     ]
    }
   ],
   "source": [
    "print ('ahoj' + 'dda')"
   ]
  }
 ],
 "metadata": {
  "kernelspec": {
   "display_name": "Python 3",
   "language": "python",
   "name": "python3"
  },
  "language_info": {
   "codemirror_mode": {
    "name": "ipython",
    "version": 3
   },
   "file_extension": ".py",
   "mimetype": "text/x-python",
   "name": "python",
   "nbconvert_exporter": "python",
   "pygments_lexer": "ipython3",
   "version": "3.11.9"
  }
 },
 "nbformat": 4,
 "nbformat_minor": 2
}
